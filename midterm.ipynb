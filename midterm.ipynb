{
 "cells": [
  {
   "cell_type": "markdown",
   "id": "5215b671",
   "metadata": {},
   "source": [
    "#### Part -1"
   ]
  },
  {
   "cell_type": "markdown",
   "id": "a9c33097",
   "metadata": {},
   "source": [
    "##### Question 1: What is the augmented operation for dividing a number?"
   ]
  },
  {
   "cell_type": "code",
   "execution_count": 63,
   "id": "75613351",
   "metadata": {},
   "outputs": [
    {
     "name": "stdout",
     "output_type": "stream",
     "text": [
      "5.0\n"
     ]
    }
   ],
   "source": [
    "x=10\n",
    "y=2\n",
    "x/=y\n",
    "print(x)"
   ]
  },
  {
   "cell_type": "markdown",
   "id": "620b020d",
   "metadata": {},
   "source": [
    "##### Question 2: If you want to store a list of unique keys and values, which data structure should be used? What about storing just the keys, what data structure would work best here?"
   ]
  },
  {
   "cell_type": "code",
   "execution_count": 64,
   "id": "109bb958",
   "metadata": {},
   "outputs": [
    {
     "data": {
      "text/plain": [
       "set()"
      ]
     },
     "execution_count": 64,
     "metadata": {},
     "output_type": "execute_result"
    }
   ],
   "source": [
    "dict()\n",
    "set()"
   ]
  },
  {
   "cell_type": "markdown",
   "id": "3143580f",
   "metadata": {},
   "source": [
    "##### Question 3: If you have a list and a set of the same three strings, and you attempt to change element index 0 to ‘new’ what will happen? What is the name of the property that comes into play here and what is it useful for?"
   ]
  },
  {
   "cell_type": "code",
   "execution_count": 65,
   "id": "a612179e",
   "metadata": {},
   "outputs": [
    {
     "data": {
      "text/plain": [
       "['new', 'abc', 'abc']"
      ]
     },
     "execution_count": 65,
     "metadata": {},
     "output_type": "execute_result"
    }
   ],
   "source": [
    "alist = [\"abc\", \"abc\", \"abc\"]\n",
    "alist[0] = \"new\"\n",
    "alist"
   ]
  },
  {
   "cell_type": "markdown",
   "id": "a20d63b8",
   "metadata": {},
   "source": [
    "Elements can be modified.\n",
    "\n",
    "Individual values can be replaced.\n",
    "\n",
    "The order of elements can be changed."
   ]
  },
  {
   "cell_type": "markdown",
   "id": "c5dbe5de",
   "metadata": {},
   "source": [
    "##### Question 4: If I have a dataframe df, and I want to create two variables df_v, and df_r, where df_v is a direct copy of df, and df_r is a reference that will be change if df is changed, how would I do this?"
   ]
  },
  {
   "cell_type": "code",
   "execution_count": 66,
   "id": "c491ef79",
   "metadata": {},
   "outputs": [],
   "source": [
    "import pandas as pd\n",
    "df = pd.DataFrame(columns= [\"a\", \"b\"])\n",
    "df1 = df.copy() # direct copy\n",
    "df2 = df # refernce"
   ]
  },
  {
   "cell_type": "code",
   "execution_count": 67,
   "id": "f75bf6c6",
   "metadata": {},
   "outputs": [
    {
     "data": {
      "text/html": [
       "<div>\n",
       "<style scoped>\n",
       "    .dataframe tbody tr th:only-of-type {\n",
       "        vertical-align: middle;\n",
       "    }\n",
       "\n",
       "    .dataframe tbody tr th {\n",
       "        vertical-align: top;\n",
       "    }\n",
       "\n",
       "    .dataframe thead th {\n",
       "        text-align: right;\n",
       "    }\n",
       "</style>\n",
       "<table border=\"1\" class=\"dataframe\">\n",
       "  <thead>\n",
       "    <tr style=\"text-align: right;\">\n",
       "      <th></th>\n",
       "      <th>a</th>\n",
       "      <th>b</th>\n",
       "    </tr>\n",
       "  </thead>\n",
       "  <tbody>\n",
       "  </tbody>\n",
       "</table>\n",
       "</div>"
      ],
      "text/plain": [
       "Empty DataFrame\n",
       "Columns: [a, b]\n",
       "Index: []"
      ]
     },
     "execution_count": 67,
     "metadata": {},
     "output_type": "execute_result"
    }
   ],
   "source": [
    "df"
   ]
  },
  {
   "cell_type": "code",
   "execution_count": 68,
   "id": "f668cd0e",
   "metadata": {},
   "outputs": [],
   "source": [
    "df2.columns = [\"x\", \"y\"]"
   ]
  },
  {
   "cell_type": "code",
   "execution_count": 69,
   "id": "391491fb",
   "metadata": {},
   "outputs": [
    {
     "data": {
      "text/html": [
       "<div>\n",
       "<style scoped>\n",
       "    .dataframe tbody tr th:only-of-type {\n",
       "        vertical-align: middle;\n",
       "    }\n",
       "\n",
       "    .dataframe tbody tr th {\n",
       "        vertical-align: top;\n",
       "    }\n",
       "\n",
       "    .dataframe thead th {\n",
       "        text-align: right;\n",
       "    }\n",
       "</style>\n",
       "<table border=\"1\" class=\"dataframe\">\n",
       "  <thead>\n",
       "    <tr style=\"text-align: right;\">\n",
       "      <th></th>\n",
       "      <th>x</th>\n",
       "      <th>y</th>\n",
       "    </tr>\n",
       "  </thead>\n",
       "  <tbody>\n",
       "  </tbody>\n",
       "</table>\n",
       "</div>"
      ],
      "text/plain": [
       "Empty DataFrame\n",
       "Columns: [x, y]\n",
       "Index: []"
      ]
     },
     "execution_count": 69,
     "metadata": {},
     "output_type": "execute_result"
    }
   ],
   "source": [
    "df2"
   ]
  },
  {
   "cell_type": "code",
   "execution_count": 70,
   "id": "48eba85f",
   "metadata": {},
   "outputs": [
    {
     "data": {
      "text/html": [
       "<div>\n",
       "<style scoped>\n",
       "    .dataframe tbody tr th:only-of-type {\n",
       "        vertical-align: middle;\n",
       "    }\n",
       "\n",
       "    .dataframe tbody tr th {\n",
       "        vertical-align: top;\n",
       "    }\n",
       "\n",
       "    .dataframe thead th {\n",
       "        text-align: right;\n",
       "    }\n",
       "</style>\n",
       "<table border=\"1\" class=\"dataframe\">\n",
       "  <thead>\n",
       "    <tr style=\"text-align: right;\">\n",
       "      <th></th>\n",
       "      <th>x</th>\n",
       "      <th>y</th>\n",
       "    </tr>\n",
       "  </thead>\n",
       "  <tbody>\n",
       "  </tbody>\n",
       "</table>\n",
       "</div>"
      ],
      "text/plain": [
       "Empty DataFrame\n",
       "Columns: [x, y]\n",
       "Index: []"
      ]
     },
     "execution_count": 70,
     "metadata": {},
     "output_type": "execute_result"
    }
   ],
   "source": [
    "df"
   ]
  },
  {
   "cell_type": "code",
   "execution_count": 71,
   "id": "f4d73bba",
   "metadata": {},
   "outputs": [
    {
     "data": {
      "text/html": [
       "<div>\n",
       "<style scoped>\n",
       "    .dataframe tbody tr th:only-of-type {\n",
       "        vertical-align: middle;\n",
       "    }\n",
       "\n",
       "    .dataframe tbody tr th {\n",
       "        vertical-align: top;\n",
       "    }\n",
       "\n",
       "    .dataframe thead th {\n",
       "        text-align: right;\n",
       "    }\n",
       "</style>\n",
       "<table border=\"1\" class=\"dataframe\">\n",
       "  <thead>\n",
       "    <tr style=\"text-align: right;\">\n",
       "      <th></th>\n",
       "      <th>a</th>\n",
       "      <th>b</th>\n",
       "    </tr>\n",
       "  </thead>\n",
       "  <tbody>\n",
       "  </tbody>\n",
       "</table>\n",
       "</div>"
      ],
      "text/plain": [
       "Empty DataFrame\n",
       "Columns: [a, b]\n",
       "Index: []"
      ]
     },
     "execution_count": 71,
     "metadata": {},
     "output_type": "execute_result"
    }
   ],
   "source": [
    "df1"
   ]
  },
  {
   "cell_type": "markdown",
   "id": "2e866446",
   "metadata": {},
   "source": [
    "##### Question 5: In pandas, what is the difference between axis =1 and axis = 0?"
   ]
  },
  {
   "cell_type": "markdown",
   "id": "09dbddd9",
   "metadata": {},
   "source": [
    "axis=0  → rows or horizontal axis\n",
    "axis=1  → columns or vertical axis\n"
   ]
  },
  {
   "cell_type": "markdown",
   "id": "d01d7e80",
   "metadata": {},
   "source": [
    "##### (Optional -- 2 points of bonus) Question 6: What is the benefit of using classes? What about inheritance? "
   ]
  },
  {
   "cell_type": "markdown",
   "id": "fd7540a8",
   "metadata": {},
   "source": [
    "Classes provide an easy way of keeping the data members and methods together and hence making the program more organized and reduces complexity\n",
    "Use of inheritances provides  code reusable and flexibility and we can override the methods from parent class in child class.\n"
   ]
  },
  {
   "cell_type": "markdown",
   "id": "f128e609",
   "metadata": {},
   "source": [
    "#### Part -2 "
   ]
  },
  {
   "cell_type": "markdown",
   "id": "0dad3ed1",
   "metadata": {},
   "source": [
    "##### Q. 1"
   ]
  },
  {
   "cell_type": "markdown",
   "id": "d3c63c70",
   "metadata": {},
   "source": [
    "Import numpy, seaborn, and pandas as their standard names. \n",
    "\n",
    "Using the seaborn function load_dataset, read in the dataset ‘mpg’ \n",
    "\n",
    "Print the datatypes once loaded (df.dtypes). \n",
    "\n",
    "Drop any duplicate name values, and any rows which have nan values across any column. "
   ]
  },
  {
   "cell_type": "code",
   "execution_count": 72,
   "id": "6cd46a0b",
   "metadata": {},
   "outputs": [
    {
     "data": {
      "text/plain": [
       "(392, 9)"
      ]
     },
     "execution_count": 72,
     "metadata": {},
     "output_type": "execute_result"
    }
   ],
   "source": [
    "import numpy as np\n",
    "import seaborn as sns\n",
    "import pandas as pd\n",
    "df = sns.load_dataset('mpg')\n",
    "df.shape\n",
    "df.dtypes\n",
    "df.dropna(axis=0, how='any', inplace=True)\n",
    "df.shape\n"
   ]
  },
  {
   "cell_type": "code",
   "execution_count": 73,
   "id": "8fb8cec4",
   "metadata": {},
   "outputs": [
    {
     "data": {
      "text/html": [
       "<div>\n",
       "<style scoped>\n",
       "    .dataframe tbody tr th:only-of-type {\n",
       "        vertical-align: middle;\n",
       "    }\n",
       "\n",
       "    .dataframe tbody tr th {\n",
       "        vertical-align: top;\n",
       "    }\n",
       "\n",
       "    .dataframe thead th {\n",
       "        text-align: right;\n",
       "    }\n",
       "</style>\n",
       "<table border=\"1\" class=\"dataframe\">\n",
       "  <thead>\n",
       "    <tr style=\"text-align: right;\">\n",
       "      <th></th>\n",
       "      <th>mpg</th>\n",
       "      <th>cylinders</th>\n",
       "      <th>displacement</th>\n",
       "      <th>horsepower</th>\n",
       "      <th>weight</th>\n",
       "      <th>acceleration</th>\n",
       "      <th>model_year</th>\n",
       "      <th>origin</th>\n",
       "      <th>name</th>\n",
       "    </tr>\n",
       "  </thead>\n",
       "  <tbody>\n",
       "    <tr>\n",
       "      <th>0</th>\n",
       "      <td>18.0</td>\n",
       "      <td>8</td>\n",
       "      <td>307.0</td>\n",
       "      <td>130.0</td>\n",
       "      <td>3504</td>\n",
       "      <td>12.0</td>\n",
       "      <td>70</td>\n",
       "      <td>usa</td>\n",
       "      <td>chevrolet chevelle malibu</td>\n",
       "    </tr>\n",
       "    <tr>\n",
       "      <th>1</th>\n",
       "      <td>15.0</td>\n",
       "      <td>8</td>\n",
       "      <td>350.0</td>\n",
       "      <td>165.0</td>\n",
       "      <td>3693</td>\n",
       "      <td>11.5</td>\n",
       "      <td>70</td>\n",
       "      <td>usa</td>\n",
       "      <td>buick skylark 320</td>\n",
       "    </tr>\n",
       "    <tr>\n",
       "      <th>2</th>\n",
       "      <td>18.0</td>\n",
       "      <td>8</td>\n",
       "      <td>318.0</td>\n",
       "      <td>150.0</td>\n",
       "      <td>3436</td>\n",
       "      <td>11.0</td>\n",
       "      <td>70</td>\n",
       "      <td>usa</td>\n",
       "      <td>plymouth satellite</td>\n",
       "    </tr>\n",
       "    <tr>\n",
       "      <th>3</th>\n",
       "      <td>16.0</td>\n",
       "      <td>8</td>\n",
       "      <td>304.0</td>\n",
       "      <td>150.0</td>\n",
       "      <td>3433</td>\n",
       "      <td>12.0</td>\n",
       "      <td>70</td>\n",
       "      <td>usa</td>\n",
       "      <td>amc rebel sst</td>\n",
       "    </tr>\n",
       "    <tr>\n",
       "      <th>4</th>\n",
       "      <td>17.0</td>\n",
       "      <td>8</td>\n",
       "      <td>302.0</td>\n",
       "      <td>140.0</td>\n",
       "      <td>3449</td>\n",
       "      <td>10.5</td>\n",
       "      <td>70</td>\n",
       "      <td>usa</td>\n",
       "      <td>ford torino</td>\n",
       "    </tr>\n",
       "  </tbody>\n",
       "</table>\n",
       "</div>"
      ],
      "text/plain": [
       "    mpg  cylinders  displacement  horsepower  weight  acceleration  \\\n",
       "0  18.0          8         307.0       130.0    3504          12.0   \n",
       "1  15.0          8         350.0       165.0    3693          11.5   \n",
       "2  18.0          8         318.0       150.0    3436          11.0   \n",
       "3  16.0          8         304.0       150.0    3433          12.0   \n",
       "4  17.0          8         302.0       140.0    3449          10.5   \n",
       "\n",
       "   model_year origin                       name  \n",
       "0          70    usa  chevrolet chevelle malibu  \n",
       "1          70    usa          buick skylark 320  \n",
       "2          70    usa         plymouth satellite  \n",
       "3          70    usa              amc rebel sst  \n",
       "4          70    usa                ford torino  "
      ]
     },
     "execution_count": 73,
     "metadata": {},
     "output_type": "execute_result"
    }
   ],
   "source": [
    "df.head()"
   ]
  },
  {
   "cell_type": "markdown",
   "id": "d3b8316a",
   "metadata": {},
   "source": [
    "##### Q. 2"
   ]
  },
  {
   "cell_type": "markdown",
   "id": "ebba298d",
   "metadata": {},
   "source": [
    "Create another dataframe t_df with only columns: horsepower and weight. Using slicing notation cut the dataset in half, keeping the first half of the rows. Hint: You will need to calculate the midpoint."
   ]
  },
  {
   "cell_type": "code",
   "execution_count": 74,
   "id": "308d3906",
   "metadata": {},
   "outputs": [
    {
     "name": "stdout",
     "output_type": "stream",
     "text": [
      "196\n",
      "First half shape:  (196, 2) Second half shape:  (196, 2)\n"
     ]
    }
   ],
   "source": [
    "t_df = df[['horsepower', 'weight']]\n",
    "t_df.shape\n",
    "mid_point = len(t_df)//2\n",
    "print(mid_point)\n",
    "first_half_t_df = t_df.iloc[:196]\n",
    "second_half_t_df = t_df.iloc[196:]\n",
    "print(\"First half shape: \", first_half_t_df.shape, \"Second half shape: \", second_half_t_df.shape)"
   ]
  },
  {
   "cell_type": "markdown",
   "id": "10c3cf77",
   "metadata": {},
   "source": [
    "##### Q.3"
   ]
  },
  {
   "cell_type": "markdown",
   "id": "b8671088",
   "metadata": {},
   "source": [
    "Create a class called mather with a constructor that takes in a single number and assigns it to class variable offset. Write a single function offsetter in mather which takes in a number, adds offset to it, and returns the result. Use an augmented operator"
   ]
  },
  {
   "cell_type": "code",
   "execution_count": 75,
   "id": "653224f4",
   "metadata": {},
   "outputs": [],
   "source": [
    "class Mather:\n",
    "    def __init__(cls, offset_val: int):\n",
    "        cls.offset = offset_val\n",
    "    \n",
    "    def offsetter(cls, num: int):\n",
    "        num += cls.offset\n",
    "        return num \n"
   ]
  },
  {
   "cell_type": "markdown",
   "id": "d717edc8",
   "metadata": {},
   "source": [
    "##### Q.4"
   ]
  },
  {
   "cell_type": "code",
   "execution_count": null,
   "id": "a349c508",
   "metadata": {},
   "outputs": [],
   "source": []
  },
  {
   "cell_type": "markdown",
   "id": "020cd7d0",
   "metadata": {},
   "source": [
    "Create another class proxy which inherits mather, initialize an object of proxy called tester and pass in 1 for the offset. "
   ]
  },
  {
   "cell_type": "code",
   "execution_count": 76,
   "id": "7601c611",
   "metadata": {},
   "outputs": [],
   "source": [
    "class Proxy(Mather):\n",
    "    pass\n",
    "    \n",
    "tester = Proxy(1)"
   ]
  },
  {
   "cell_type": "code",
   "execution_count": 77,
   "id": "dbd7ddd3",
   "metadata": {},
   "outputs": [
    {
     "data": {
      "text/plain": [
       "41"
      ]
     },
     "execution_count": 77,
     "metadata": {},
     "output_type": "execute_result"
    }
   ],
   "source": [
    "tester.offsetter(40)"
   ]
  },
  {
   "cell_type": "markdown",
   "id": "35494b64",
   "metadata": {},
   "source": [
    "##### Q.5"
   ]
  },
  {
   "cell_type": "markdown",
   "id": "2aab1da0",
   "metadata": {},
   "source": [
    "Write a class function in proxy called divisibility which takes in a numeric value offset. \n",
    "\n",
    "Check if the variable is  either an int or float (reference the datatypes above for the exact dtypes), \n",
    "if it is not a numeric value return np.nan. \n",
    "\n",
    "Apply offsetter from the parent class to the value\n",
    "\n",
    "Check if the resulting number is divisible by 2 and if so return ‘even’, \n",
    "if it is not divisible by 2 then return ‘odd’"
   ]
  },
  {
   "cell_type": "code",
   "execution_count": 78,
   "id": "b7db4845",
   "metadata": {},
   "outputs": [],
   "source": [
    "class Proxy(Mather):\n",
    "    def divisibility(cls, num_float: float):\n",
    "        if type(num_float) == int or type(num_float) == np.float64:\n",
    "            offset_result = cls.offsetter(num_float)\n",
    "            if offset_result%2 == 0:\n",
    "                return \"even\"\n",
    "            else:\n",
    "                return \"odd\"\n",
    "        else:\n",
    "            return np.nan"
   ]
  },
  {
   "cell_type": "code",
   "execution_count": 79,
   "id": "67ad6c61",
   "metadata": {},
   "outputs": [],
   "source": [
    "tester = Proxy(1)"
   ]
  },
  {
   "cell_type": "code",
   "execution_count": 80,
   "id": "6b8f517a",
   "metadata": {},
   "outputs": [
    {
     "data": {
      "text/plain": [
       "'odd'"
      ]
     },
     "execution_count": 80,
     "metadata": {},
     "output_type": "execute_result"
    }
   ],
   "source": [
    "tester.divisibility(40)"
   ]
  },
  {
   "cell_type": "code",
   "execution_count": 81,
   "id": "e868b495",
   "metadata": {},
   "outputs": [
    {
     "data": {
      "text/plain": [
       "'even'"
      ]
     },
     "execution_count": 81,
     "metadata": {},
     "output_type": "execute_result"
    }
   ],
   "source": [
    "tester.divisibility(41)"
   ]
  },
  {
   "cell_type": "code",
   "execution_count": 82,
   "id": "e394b9bf",
   "metadata": {},
   "outputs": [
    {
     "data": {
      "text/plain": [
       "nan"
      ]
     },
     "execution_count": 82,
     "metadata": {},
     "output_type": "execute_result"
    }
   ],
   "source": [
    "tester.divisibility(True)"
   ]
  },
  {
   "cell_type": "code",
   "execution_count": 83,
   "id": "d8ec1d3c",
   "metadata": {},
   "outputs": [
    {
     "data": {
      "text/plain": [
       "nan"
      ]
     },
     "execution_count": 83,
     "metadata": {},
     "output_type": "execute_result"
    }
   ],
   "source": [
    "tester.divisibility('foo')"
   ]
  },
  {
   "cell_type": "markdown",
   "id": "197e7ab1",
   "metadata": {},
   "source": [
    "##### Q.6"
   ]
  },
  {
   "cell_type": "markdown",
   "id": "4e305e44",
   "metadata": {},
   "source": [
    "Use tester to apply divisibility to both columns in t_df \n",
    "\n",
    "and return the result into new columns ‘horsepower offset evenness’ and ‘weight offset evenness’"
   ]
  },
  {
   "cell_type": "code",
   "execution_count": 84,
   "id": "08a7ce24",
   "metadata": {},
   "outputs": [
    {
     "name": "stderr",
     "output_type": "stream",
     "text": [
      "/Users/reshmapriyamannemuddu/opt/anaconda3/lib/python3.8/site-packages/pandas/core/indexing.py:1597: SettingWithCopyWarning: \n",
      "A value is trying to be set on a copy of a slice from a DataFrame.\n",
      "Try using .loc[row_indexer,col_indexer] = value instead\n",
      "\n",
      "See the caveats in the documentation: https://pandas.pydata.org/pandas-docs/stable/user_guide/indexing.html#returning-a-view-versus-a-copy\n",
      "  self.obj[key] = value\n",
      "/Users/reshmapriyamannemuddu/opt/anaconda3/lib/python3.8/site-packages/pandas/core/indexing.py:1676: SettingWithCopyWarning: \n",
      "A value is trying to be set on a copy of a slice from a DataFrame.\n",
      "Try using .loc[row_indexer,col_indexer] = value instead\n",
      "\n",
      "See the caveats in the documentation: https://pandas.pydata.org/pandas-docs/stable/user_guide/indexing.html#returning-a-view-versus-a-copy\n",
      "  self._setitem_single_column(ilocs[0], value, pi)\n"
     ]
    },
    {
     "data": {
      "text/html": [
       "<div>\n",
       "<style scoped>\n",
       "    .dataframe tbody tr th:only-of-type {\n",
       "        vertical-align: middle;\n",
       "    }\n",
       "\n",
       "    .dataframe tbody tr th {\n",
       "        vertical-align: top;\n",
       "    }\n",
       "\n",
       "    .dataframe thead th {\n",
       "        text-align: right;\n",
       "    }\n",
       "</style>\n",
       "<table border=\"1\" class=\"dataframe\">\n",
       "  <thead>\n",
       "    <tr style=\"text-align: right;\">\n",
       "      <th></th>\n",
       "      <th>horsepower</th>\n",
       "      <th>weight</th>\n",
       "      <th>horsepower offset evenness</th>\n",
       "      <th>weight offset evenness</th>\n",
       "    </tr>\n",
       "  </thead>\n",
       "  <tbody>\n",
       "    <tr>\n",
       "      <th>0</th>\n",
       "      <td>130.0</td>\n",
       "      <td>3504</td>\n",
       "      <td>odd</td>\n",
       "      <td>odd</td>\n",
       "    </tr>\n",
       "    <tr>\n",
       "      <th>1</th>\n",
       "      <td>165.0</td>\n",
       "      <td>3693</td>\n",
       "      <td>even</td>\n",
       "      <td>even</td>\n",
       "    </tr>\n",
       "    <tr>\n",
       "      <th>2</th>\n",
       "      <td>150.0</td>\n",
       "      <td>3436</td>\n",
       "      <td>odd</td>\n",
       "      <td>odd</td>\n",
       "    </tr>\n",
       "    <tr>\n",
       "      <th>3</th>\n",
       "      <td>150.0</td>\n",
       "      <td>3433</td>\n",
       "      <td>odd</td>\n",
       "      <td>even</td>\n",
       "    </tr>\n",
       "    <tr>\n",
       "      <th>4</th>\n",
       "      <td>140.0</td>\n",
       "      <td>3449</td>\n",
       "      <td>odd</td>\n",
       "      <td>even</td>\n",
       "    </tr>\n",
       "    <tr>\n",
       "      <th>5</th>\n",
       "      <td>198.0</td>\n",
       "      <td>4341</td>\n",
       "      <td>odd</td>\n",
       "      <td>even</td>\n",
       "    </tr>\n",
       "    <tr>\n",
       "      <th>6</th>\n",
       "      <td>220.0</td>\n",
       "      <td>4354</td>\n",
       "      <td>odd</td>\n",
       "      <td>odd</td>\n",
       "    </tr>\n",
       "    <tr>\n",
       "      <th>7</th>\n",
       "      <td>215.0</td>\n",
       "      <td>4312</td>\n",
       "      <td>even</td>\n",
       "      <td>odd</td>\n",
       "    </tr>\n",
       "    <tr>\n",
       "      <th>8</th>\n",
       "      <td>225.0</td>\n",
       "      <td>4425</td>\n",
       "      <td>even</td>\n",
       "      <td>even</td>\n",
       "    </tr>\n",
       "    <tr>\n",
       "      <th>9</th>\n",
       "      <td>190.0</td>\n",
       "      <td>3850</td>\n",
       "      <td>odd</td>\n",
       "      <td>odd</td>\n",
       "    </tr>\n",
       "  </tbody>\n",
       "</table>\n",
       "</div>"
      ],
      "text/plain": [
       "   horsepower  weight horsepower offset evenness weight offset evenness\n",
       "0       130.0    3504                        odd                    odd\n",
       "1       165.0    3693                       even                   even\n",
       "2       150.0    3436                        odd                    odd\n",
       "3       150.0    3433                        odd                   even\n",
       "4       140.0    3449                        odd                   even\n",
       "5       198.0    4341                        odd                   even\n",
       "6       220.0    4354                        odd                    odd\n",
       "7       215.0    4312                       even                    odd\n",
       "8       225.0    4425                       even                   even\n",
       "9       190.0    3850                        odd                    odd"
      ]
     },
     "execution_count": 84,
     "metadata": {},
     "output_type": "execute_result"
    }
   ],
   "source": [
    "t_df.loc[:,'horsepower offset evenness'] = t_df.apply(lambda row: tester.divisibility(row['horsepower']),axis=1)\n",
    "t_df.loc[:,'weight offset evenness'] = t_df.apply(lambda row: tester.divisibility(row['weight']),axis=1)\n",
    "t_df.head(10)"
   ]
  },
  {
   "cell_type": "markdown",
   "id": "f4a964ab",
   "metadata": {},
   "source": [
    "#### Part 3"
   ]
  },
  {
   "cell_type": "markdown",
   "id": "c6adab51",
   "metadata": {},
   "source": [
    "##### Q1"
   ]
  },
  {
   "cell_type": "markdown",
   "id": "8a8f3899",
   "metadata": {},
   "source": [
    "We will now revert back to using df instead of t_df. \n",
    "\n",
    "Create and calculate a column called ‘mean by year’ which is the the mean mpg by model_year. "
   ]
  },
  {
   "cell_type": "code",
   "execution_count": 85,
   "id": "72f9e831",
   "metadata": {},
   "outputs": [
    {
     "data": {
      "text/html": [
       "<div>\n",
       "<style scoped>\n",
       "    .dataframe tbody tr th:only-of-type {\n",
       "        vertical-align: middle;\n",
       "    }\n",
       "\n",
       "    .dataframe tbody tr th {\n",
       "        vertical-align: top;\n",
       "    }\n",
       "\n",
       "    .dataframe thead th {\n",
       "        text-align: right;\n",
       "    }\n",
       "</style>\n",
       "<table border=\"1\" class=\"dataframe\">\n",
       "  <thead>\n",
       "    <tr style=\"text-align: right;\">\n",
       "      <th></th>\n",
       "      <th>mpg</th>\n",
       "      <th>cylinders</th>\n",
       "      <th>displacement</th>\n",
       "      <th>horsepower</th>\n",
       "      <th>weight</th>\n",
       "      <th>acceleration</th>\n",
       "      <th>model_year</th>\n",
       "      <th>origin</th>\n",
       "      <th>name</th>\n",
       "    </tr>\n",
       "  </thead>\n",
       "  <tbody>\n",
       "    <tr>\n",
       "      <th>0</th>\n",
       "      <td>18.0</td>\n",
       "      <td>8</td>\n",
       "      <td>307.0</td>\n",
       "      <td>130.0</td>\n",
       "      <td>3504</td>\n",
       "      <td>12.0</td>\n",
       "      <td>70</td>\n",
       "      <td>usa</td>\n",
       "      <td>chevrolet chevelle malibu</td>\n",
       "    </tr>\n",
       "    <tr>\n",
       "      <th>1</th>\n",
       "      <td>15.0</td>\n",
       "      <td>8</td>\n",
       "      <td>350.0</td>\n",
       "      <td>165.0</td>\n",
       "      <td>3693</td>\n",
       "      <td>11.5</td>\n",
       "      <td>70</td>\n",
       "      <td>usa</td>\n",
       "      <td>buick skylark 320</td>\n",
       "    </tr>\n",
       "    <tr>\n",
       "      <th>2</th>\n",
       "      <td>18.0</td>\n",
       "      <td>8</td>\n",
       "      <td>318.0</td>\n",
       "      <td>150.0</td>\n",
       "      <td>3436</td>\n",
       "      <td>11.0</td>\n",
       "      <td>70</td>\n",
       "      <td>usa</td>\n",
       "      <td>plymouth satellite</td>\n",
       "    </tr>\n",
       "    <tr>\n",
       "      <th>3</th>\n",
       "      <td>16.0</td>\n",
       "      <td>8</td>\n",
       "      <td>304.0</td>\n",
       "      <td>150.0</td>\n",
       "      <td>3433</td>\n",
       "      <td>12.0</td>\n",
       "      <td>70</td>\n",
       "      <td>usa</td>\n",
       "      <td>amc rebel sst</td>\n",
       "    </tr>\n",
       "    <tr>\n",
       "      <th>4</th>\n",
       "      <td>17.0</td>\n",
       "      <td>8</td>\n",
       "      <td>302.0</td>\n",
       "      <td>140.0</td>\n",
       "      <td>3449</td>\n",
       "      <td>10.5</td>\n",
       "      <td>70</td>\n",
       "      <td>usa</td>\n",
       "      <td>ford torino</td>\n",
       "    </tr>\n",
       "  </tbody>\n",
       "</table>\n",
       "</div>"
      ],
      "text/plain": [
       "    mpg  cylinders  displacement  horsepower  weight  acceleration  \\\n",
       "0  18.0          8         307.0       130.0    3504          12.0   \n",
       "1  15.0          8         350.0       165.0    3693          11.5   \n",
       "2  18.0          8         318.0       150.0    3436          11.0   \n",
       "3  16.0          8         304.0       150.0    3433          12.0   \n",
       "4  17.0          8         302.0       140.0    3449          10.5   \n",
       "\n",
       "   model_year origin                       name  \n",
       "0          70    usa  chevrolet chevelle malibu  \n",
       "1          70    usa          buick skylark 320  \n",
       "2          70    usa         plymouth satellite  \n",
       "3          70    usa              amc rebel sst  \n",
       "4          70    usa                ford torino  "
      ]
     },
     "execution_count": 85,
     "metadata": {},
     "output_type": "execute_result"
    }
   ],
   "source": [
    "df.head()"
   ]
  },
  {
   "cell_type": "code",
   "execution_count": 86,
   "id": "de8a914b",
   "metadata": {},
   "outputs": [
    {
     "data": {
      "text/html": [
       "<div>\n",
       "<style scoped>\n",
       "    .dataframe tbody tr th:only-of-type {\n",
       "        vertical-align: middle;\n",
       "    }\n",
       "\n",
       "    .dataframe tbody tr th {\n",
       "        vertical-align: top;\n",
       "    }\n",
       "\n",
       "    .dataframe thead th {\n",
       "        text-align: right;\n",
       "    }\n",
       "</style>\n",
       "<table border=\"1\" class=\"dataframe\">\n",
       "  <thead>\n",
       "    <tr style=\"text-align: right;\">\n",
       "      <th></th>\n",
       "      <th>mpg</th>\n",
       "      <th>cylinders</th>\n",
       "      <th>displacement</th>\n",
       "      <th>horsepower</th>\n",
       "      <th>weight</th>\n",
       "      <th>acceleration</th>\n",
       "      <th>model_year</th>\n",
       "      <th>origin</th>\n",
       "      <th>name</th>\n",
       "      <th>mean by year</th>\n",
       "    </tr>\n",
       "  </thead>\n",
       "  <tbody>\n",
       "    <tr>\n",
       "      <th>24</th>\n",
       "      <td>21.0</td>\n",
       "      <td>6</td>\n",
       "      <td>199.0</td>\n",
       "      <td>90.0</td>\n",
       "      <td>2648</td>\n",
       "      <td>15.0</td>\n",
       "      <td>70</td>\n",
       "      <td>usa</td>\n",
       "      <td>amc gremlin</td>\n",
       "      <td>17.689655</td>\n",
       "    </tr>\n",
       "    <tr>\n",
       "      <th>287</th>\n",
       "      <td>16.5</td>\n",
       "      <td>8</td>\n",
       "      <td>351.0</td>\n",
       "      <td>138.0</td>\n",
       "      <td>3955</td>\n",
       "      <td>13.2</td>\n",
       "      <td>79</td>\n",
       "      <td>usa</td>\n",
       "      <td>mercury grand marquis</td>\n",
       "      <td>25.093103</td>\n",
       "    </tr>\n",
       "    <tr>\n",
       "      <th>92</th>\n",
       "      <td>13.0</td>\n",
       "      <td>8</td>\n",
       "      <td>351.0</td>\n",
       "      <td>158.0</td>\n",
       "      <td>4363</td>\n",
       "      <td>13.0</td>\n",
       "      <td>73</td>\n",
       "      <td>usa</td>\n",
       "      <td>ford ltd</td>\n",
       "      <td>17.100000</td>\n",
       "    </tr>\n",
       "    <tr>\n",
       "      <th>254</th>\n",
       "      <td>20.2</td>\n",
       "      <td>6</td>\n",
       "      <td>200.0</td>\n",
       "      <td>85.0</td>\n",
       "      <td>2965</td>\n",
       "      <td>15.8</td>\n",
       "      <td>78</td>\n",
       "      <td>usa</td>\n",
       "      <td>ford fairmont (auto)</td>\n",
       "      <td>24.061111</td>\n",
       "    </tr>\n",
       "    <tr>\n",
       "      <th>284</th>\n",
       "      <td>20.6</td>\n",
       "      <td>6</td>\n",
       "      <td>225.0</td>\n",
       "      <td>110.0</td>\n",
       "      <td>3360</td>\n",
       "      <td>16.6</td>\n",
       "      <td>79</td>\n",
       "      <td>usa</td>\n",
       "      <td>dodge aspen 6</td>\n",
       "      <td>25.093103</td>\n",
       "    </tr>\n",
       "    <tr>\n",
       "      <th>27</th>\n",
       "      <td>11.0</td>\n",
       "      <td>8</td>\n",
       "      <td>318.0</td>\n",
       "      <td>210.0</td>\n",
       "      <td>4382</td>\n",
       "      <td>13.5</td>\n",
       "      <td>70</td>\n",
       "      <td>usa</td>\n",
       "      <td>dodge d200</td>\n",
       "      <td>17.689655</td>\n",
       "    </tr>\n",
       "    <tr>\n",
       "      <th>313</th>\n",
       "      <td>28.0</td>\n",
       "      <td>4</td>\n",
       "      <td>151.0</td>\n",
       "      <td>90.0</td>\n",
       "      <td>2678</td>\n",
       "      <td>16.5</td>\n",
       "      <td>80</td>\n",
       "      <td>usa</td>\n",
       "      <td>chevrolet citation</td>\n",
       "      <td>33.803704</td>\n",
       "    </tr>\n",
       "    <tr>\n",
       "      <th>157</th>\n",
       "      <td>15.0</td>\n",
       "      <td>8</td>\n",
       "      <td>350.0</td>\n",
       "      <td>145.0</td>\n",
       "      <td>4440</td>\n",
       "      <td>14.0</td>\n",
       "      <td>75</td>\n",
       "      <td>usa</td>\n",
       "      <td>chevrolet bel air</td>\n",
       "      <td>20.266667</td>\n",
       "    </tr>\n",
       "    <tr>\n",
       "      <th>63</th>\n",
       "      <td>14.0</td>\n",
       "      <td>8</td>\n",
       "      <td>400.0</td>\n",
       "      <td>175.0</td>\n",
       "      <td>4385</td>\n",
       "      <td>12.0</td>\n",
       "      <td>72</td>\n",
       "      <td>usa</td>\n",
       "      <td>pontiac catalina</td>\n",
       "      <td>18.714286</td>\n",
       "    </tr>\n",
       "    <tr>\n",
       "      <th>171</th>\n",
       "      <td>24.0</td>\n",
       "      <td>4</td>\n",
       "      <td>134.0</td>\n",
       "      <td>96.0</td>\n",
       "      <td>2702</td>\n",
       "      <td>13.5</td>\n",
       "      <td>75</td>\n",
       "      <td>japan</td>\n",
       "      <td>toyota corona</td>\n",
       "      <td>20.266667</td>\n",
       "    </tr>\n",
       "  </tbody>\n",
       "</table>\n",
       "</div>"
      ],
      "text/plain": [
       "      mpg  cylinders  displacement  horsepower  weight  acceleration  \\\n",
       "24   21.0          6         199.0        90.0    2648          15.0   \n",
       "287  16.5          8         351.0       138.0    3955          13.2   \n",
       "92   13.0          8         351.0       158.0    4363          13.0   \n",
       "254  20.2          6         200.0        85.0    2965          15.8   \n",
       "284  20.6          6         225.0       110.0    3360          16.6   \n",
       "27   11.0          8         318.0       210.0    4382          13.5   \n",
       "313  28.0          4         151.0        90.0    2678          16.5   \n",
       "157  15.0          8         350.0       145.0    4440          14.0   \n",
       "63   14.0          8         400.0       175.0    4385          12.0   \n",
       "171  24.0          4         134.0        96.0    2702          13.5   \n",
       "\n",
       "     model_year origin                   name  mean by year  \n",
       "24           70    usa            amc gremlin     17.689655  \n",
       "287          79    usa  mercury grand marquis     25.093103  \n",
       "92           73    usa               ford ltd     17.100000  \n",
       "254          78    usa   ford fairmont (auto)     24.061111  \n",
       "284          79    usa          dodge aspen 6     25.093103  \n",
       "27           70    usa             dodge d200     17.689655  \n",
       "313          80    usa     chevrolet citation     33.803704  \n",
       "157          75    usa      chevrolet bel air     20.266667  \n",
       "63           72    usa       pontiac catalina     18.714286  \n",
       "171          75  japan          toyota corona     20.266667  "
      ]
     },
     "execution_count": 86,
     "metadata": {},
     "output_type": "execute_result"
    }
   ],
   "source": [
    "df['mean by year'] = df['mpg'].groupby(df['model_year']).transform('mean')\n",
    "df.sample(10)"
   ]
  },
  {
   "cell_type": "code",
   "execution_count": 87,
   "id": "2c68f8e5",
   "metadata": {},
   "outputs": [
    {
     "data": {
      "text/plain": [
       "24.061111111111114"
      ]
     },
     "execution_count": 87,
     "metadata": {},
     "output_type": "execute_result"
    }
   ],
   "source": [
    "# test check\n",
    "df[df['model_year'] == 78]['mpg'].mean()"
   ]
  },
  {
   "cell_type": "markdown",
   "id": "941064c7",
   "metadata": {},
   "source": [
    "##### Q2"
   ]
  },
  {
   "cell_type": "markdown",
   "id": "7f618eed",
   "metadata": {},
   "source": [
    "Create a column ‘count by year’ for the number (count) of names of vehicles produced for each year"
   ]
  },
  {
   "cell_type": "code",
   "execution_count": 88,
   "id": "72921eab",
   "metadata": {},
   "outputs": [
    {
     "data": {
      "text/html": [
       "<div>\n",
       "<style scoped>\n",
       "    .dataframe tbody tr th:only-of-type {\n",
       "        vertical-align: middle;\n",
       "    }\n",
       "\n",
       "    .dataframe tbody tr th {\n",
       "        vertical-align: top;\n",
       "    }\n",
       "\n",
       "    .dataframe thead th {\n",
       "        text-align: right;\n",
       "    }\n",
       "</style>\n",
       "<table border=\"1\" class=\"dataframe\">\n",
       "  <thead>\n",
       "    <tr style=\"text-align: right;\">\n",
       "      <th></th>\n",
       "      <th>mpg</th>\n",
       "      <th>cylinders</th>\n",
       "      <th>displacement</th>\n",
       "      <th>horsepower</th>\n",
       "      <th>weight</th>\n",
       "      <th>acceleration</th>\n",
       "      <th>model_year</th>\n",
       "      <th>origin</th>\n",
       "      <th>name</th>\n",
       "      <th>mean by year</th>\n",
       "      <th>count by year</th>\n",
       "    </tr>\n",
       "  </thead>\n",
       "  <tbody>\n",
       "    <tr>\n",
       "      <th>13</th>\n",
       "      <td>14.0</td>\n",
       "      <td>8</td>\n",
       "      <td>455.0</td>\n",
       "      <td>225.0</td>\n",
       "      <td>3086</td>\n",
       "      <td>10.0</td>\n",
       "      <td>70</td>\n",
       "      <td>usa</td>\n",
       "      <td>buick estate wagon (sw)</td>\n",
       "      <td>17.689655</td>\n",
       "      <td>29</td>\n",
       "    </tr>\n",
       "    <tr>\n",
       "      <th>180</th>\n",
       "      <td>25.0</td>\n",
       "      <td>4</td>\n",
       "      <td>121.0</td>\n",
       "      <td>115.0</td>\n",
       "      <td>2671</td>\n",
       "      <td>13.5</td>\n",
       "      <td>75</td>\n",
       "      <td>europe</td>\n",
       "      <td>saab 99le</td>\n",
       "      <td>20.266667</td>\n",
       "      <td>30</td>\n",
       "    </tr>\n",
       "    <tr>\n",
       "      <th>192</th>\n",
       "      <td>22.0</td>\n",
       "      <td>6</td>\n",
       "      <td>250.0</td>\n",
       "      <td>105.0</td>\n",
       "      <td>3353</td>\n",
       "      <td>14.5</td>\n",
       "      <td>76</td>\n",
       "      <td>usa</td>\n",
       "      <td>chevrolet nova</td>\n",
       "      <td>21.573529</td>\n",
       "      <td>34</td>\n",
       "    </tr>\n",
       "    <tr>\n",
       "      <th>107</th>\n",
       "      <td>18.0</td>\n",
       "      <td>6</td>\n",
       "      <td>232.0</td>\n",
       "      <td>100.0</td>\n",
       "      <td>2789</td>\n",
       "      <td>15.0</td>\n",
       "      <td>73</td>\n",
       "      <td>usa</td>\n",
       "      <td>amc gremlin</td>\n",
       "      <td>17.100000</td>\n",
       "      <td>40</td>\n",
       "    </tr>\n",
       "    <tr>\n",
       "      <th>53</th>\n",
       "      <td>31.0</td>\n",
       "      <td>4</td>\n",
       "      <td>71.0</td>\n",
       "      <td>65.0</td>\n",
       "      <td>1773</td>\n",
       "      <td>19.0</td>\n",
       "      <td>71</td>\n",
       "      <td>japan</td>\n",
       "      <td>toyota corolla 1200</td>\n",
       "      <td>21.111111</td>\n",
       "      <td>27</td>\n",
       "    </tr>\n",
       "    <tr>\n",
       "      <th>141</th>\n",
       "      <td>29.0</td>\n",
       "      <td>4</td>\n",
       "      <td>98.0</td>\n",
       "      <td>83.0</td>\n",
       "      <td>2219</td>\n",
       "      <td>16.5</td>\n",
       "      <td>74</td>\n",
       "      <td>europe</td>\n",
       "      <td>audi fox</td>\n",
       "      <td>22.769231</td>\n",
       "      <td>26</td>\n",
       "    </tr>\n",
       "    <tr>\n",
       "      <th>333</th>\n",
       "      <td>32.7</td>\n",
       "      <td>6</td>\n",
       "      <td>168.0</td>\n",
       "      <td>132.0</td>\n",
       "      <td>2910</td>\n",
       "      <td>11.4</td>\n",
       "      <td>80</td>\n",
       "      <td>japan</td>\n",
       "      <td>datsun 280-zx</td>\n",
       "      <td>33.803704</td>\n",
       "      <td>27</td>\n",
       "    </tr>\n",
       "    <tr>\n",
       "      <th>339</th>\n",
       "      <td>26.6</td>\n",
       "      <td>4</td>\n",
       "      <td>151.0</td>\n",
       "      <td>84.0</td>\n",
       "      <td>2635</td>\n",
       "      <td>16.4</td>\n",
       "      <td>81</td>\n",
       "      <td>usa</td>\n",
       "      <td>buick skylark</td>\n",
       "      <td>30.185714</td>\n",
       "      <td>28</td>\n",
       "    </tr>\n",
       "    <tr>\n",
       "      <th>237</th>\n",
       "      <td>30.5</td>\n",
       "      <td>4</td>\n",
       "      <td>98.0</td>\n",
       "      <td>63.0</td>\n",
       "      <td>2051</td>\n",
       "      <td>17.0</td>\n",
       "      <td>77</td>\n",
       "      <td>usa</td>\n",
       "      <td>chevrolet chevette</td>\n",
       "      <td>23.375000</td>\n",
       "      <td>28</td>\n",
       "    </tr>\n",
       "    <tr>\n",
       "      <th>208</th>\n",
       "      <td>13.0</td>\n",
       "      <td>8</td>\n",
       "      <td>318.0</td>\n",
       "      <td>150.0</td>\n",
       "      <td>3940</td>\n",
       "      <td>13.2</td>\n",
       "      <td>76</td>\n",
       "      <td>usa</td>\n",
       "      <td>plymouth volare premier v8</td>\n",
       "      <td>21.573529</td>\n",
       "      <td>34</td>\n",
       "    </tr>\n",
       "  </tbody>\n",
       "</table>\n",
       "</div>"
      ],
      "text/plain": [
       "      mpg  cylinders  displacement  horsepower  weight  acceleration  \\\n",
       "13   14.0          8         455.0       225.0    3086          10.0   \n",
       "180  25.0          4         121.0       115.0    2671          13.5   \n",
       "192  22.0          6         250.0       105.0    3353          14.5   \n",
       "107  18.0          6         232.0       100.0    2789          15.0   \n",
       "53   31.0          4          71.0        65.0    1773          19.0   \n",
       "141  29.0          4          98.0        83.0    2219          16.5   \n",
       "333  32.7          6         168.0       132.0    2910          11.4   \n",
       "339  26.6          4         151.0        84.0    2635          16.4   \n",
       "237  30.5          4          98.0        63.0    2051          17.0   \n",
       "208  13.0          8         318.0       150.0    3940          13.2   \n",
       "\n",
       "     model_year  origin                        name  mean by year  \\\n",
       "13           70     usa     buick estate wagon (sw)     17.689655   \n",
       "180          75  europe                   saab 99le     20.266667   \n",
       "192          76     usa              chevrolet nova     21.573529   \n",
       "107          73     usa                 amc gremlin     17.100000   \n",
       "53           71   japan         toyota corolla 1200     21.111111   \n",
       "141          74  europe                    audi fox     22.769231   \n",
       "333          80   japan               datsun 280-zx     33.803704   \n",
       "339          81     usa               buick skylark     30.185714   \n",
       "237          77     usa          chevrolet chevette     23.375000   \n",
       "208          76     usa  plymouth volare premier v8     21.573529   \n",
       "\n",
       "     count by year  \n",
       "13              29  \n",
       "180             30  \n",
       "192             34  \n",
       "107             40  \n",
       "53              27  \n",
       "141             26  \n",
       "333             27  \n",
       "339             28  \n",
       "237             28  \n",
       "208             34  "
      ]
     },
     "execution_count": 88,
     "metadata": {},
     "output_type": "execute_result"
    }
   ],
   "source": [
    "df['count by year'] = df['name'].groupby(df['model_year']).transform('count')\n",
    "df.sample(10)"
   ]
  },
  {
   "cell_type": "code",
   "execution_count": 89,
   "id": "9b9b9a0c",
   "metadata": {},
   "outputs": [
    {
     "data": {
      "text/plain": [
       "30"
      ]
     },
     "execution_count": 89,
     "metadata": {},
     "output_type": "execute_result"
    }
   ],
   "source": [
    "# test check\n",
    "len(df[df['model_year']== 82].name.unique())"
   ]
  },
  {
   "cell_type": "markdown",
   "id": "622922ed",
   "metadata": {},
   "source": [
    "##### Q3"
   ]
  },
  {
   "cell_type": "markdown",
   "id": "bb4a4b42",
   "metadata": {},
   "source": [
    "Calculate the average number of models produced for the years (inclusive) between 1970 and 1975"
   ]
  },
  {
   "cell_type": "code",
   "execution_count": 90,
   "id": "92317a63",
   "metadata": {},
   "outputs": [
    {
     "name": "stdout",
     "output_type": "stream",
     "text": [
      "(180, 11)\n",
      "Average number of models produced for the years (inclusive) between 1970 and 1975:  30.0\n"
     ]
    }
   ],
   "source": [
    "df_70_75 = df[(df['model_year'] >= 70) &  (df['model_year'] <= 75)]\n",
    "print(df_70_75.shape)\n",
    "# obtain unique count per year and compute\n",
    "avg_number_of_models_70_75 = np.mean(df_70_75['count by year'].unique())\n",
    "print(\"Average number of models produced for the years (inclusive) between 1970 and 1975: \",\n",
    "     avg_number_of_models_70_75)"
   ]
  },
  {
   "cell_type": "markdown",
   "id": "17796f05",
   "metadata": {},
   "source": [
    "#### Part 4"
   ]
  },
  {
   "cell_type": "markdown",
   "id": "b6833a99",
   "metadata": {},
   "source": [
    "##### Q1"
   ]
  },
  {
   "cell_type": "markdown",
   "id": "8a46fbcb",
   "metadata": {},
   "source": [
    "Using a lineplot, plot the new column mean_by_year (y axis) against model_year (x axis). \n",
    "\n",
    "Do the same thing for count_by_year"
   ]
  },
  {
   "cell_type": "code",
   "execution_count": 91,
   "id": "de189193",
   "metadata": {},
   "outputs": [
    {
     "data": {
      "text/plain": [
       "<AxesSubplot:xlabel='model_year', ylabel='mean by year'>"
      ]
     },
     "execution_count": 91,
     "metadata": {},
     "output_type": "execute_result"
    },
    {
     "data": {
      "image/png": "[encoded data removed]",
      "text/plain": [
       "<Figure size 432x288 with 1 Axes>"
      ]
     },
     "metadata": {
      "needs_background": "light"
     },
     "output_type": "display_data"
    }
   ],
   "source": [
    "sns.lineplot(data=df, x=\"model_year\", y=\"mean by year\")"
   ]
  },
  {
   "cell_type": "code",
   "execution_count": 92,
   "id": "b3a37cf8",
   "metadata": {},
   "outputs": [
    {
     "data": {
      "text/plain": [
       "<AxesSubplot:xlabel='model_year', ylabel='count by year'>"
      ]
     },
     "execution_count": 92,
     "metadata": {},
     "output_type": "execute_result"
    },
    {
     "data": {
      "image/png": "[encoded data removed]",
      "text/plain": [
       "<Figure size 432x288 with 1 Axes>"
      ]
     },
     "metadata": {
      "needs_background": "light"
     },
     "output_type": "display_data"
    }
   ],
   "source": [
    "sns.lineplot(data=df, x=\"model_year\", y=\"count by year\")"
   ]
  },
  {
   "cell_type": "markdown",
   "id": "40de4731",
   "metadata": {},
   "source": [
    "##### Q2"
   ]
  },
  {
   "cell_type": "markdown",
   "id": "8d18443c",
   "metadata": {},
   "source": [
    "Create a lmplot (aka a reg plot with multiple plots) where you plot mpg(y) against model year(x) \n",
    "\n",
    "and make the countries separate plots / columns and colors. \n",
    "\n",
    "Do the same for  weight against year. An example of what you should expect:"
   ]
  },
  {
   "cell_type": "code",
   "execution_count": 93,
   "id": "72b31957",
   "metadata": {},
   "outputs": [
    {
     "data": {
      "text/plain": [
       "<seaborn.axisgrid.FacetGrid at 0x7f9bb9eec9d0>"
      ]
     },
     "execution_count": 93,
     "metadata": {},
     "output_type": "execute_result"
    },
    {
     "data": {
      "image/png": "[encoded data removed]",
      "text/plain": [
       "<Figure size 1080x360 with 3 Axes>"
      ]
     },
     "metadata": {
      "needs_background": "light"
     },
     "output_type": "display_data"
    }
   ],
   "source": [
    "sns.lmplot(x=\"model_year\", y=\"mpg\", col=\"origin\", hue='origin', data=df)"
   ]
  },
  {
   "cell_type": "markdown",
   "id": "37071154",
   "metadata": {},
   "source": [
    "#### Part - 5"
   ]
  },
  {
   "cell_type": "markdown",
   "id": "3b32b16b",
   "metadata": {},
   "source": [
    "##### Q1"
   ]
  },
  {
   "cell_type": "markdown",
   "id": "8ffbad38",
   "metadata": {},
   "source": [
    "Explain any trends you see in the line plots."
   ]
  },
  {
   "cell_type": "markdown",
   "id": "df064546",
   "metadata": {},
   "source": [
    "1. Over the years, the \"mpg\" (mileage) value increased. The \"mpg\" increased strictly after 1976 eventhough there were some ups and downs in initial years\n",
    "\n",
    "2. As seen in the second line plot, there is no definite pattern in the \"count of vehicles\" produced in an year. In the year 1973, the production of vehicle count is all time high, whereas all time low production in 1974"
   ]
  },
  {
   "cell_type": "markdown",
   "id": "8039f8eb",
   "metadata": {},
   "source": [
    "##### Q2:"
   ]
  },
  {
   "cell_type": "markdown",
   "id": "ab0baa8a",
   "metadata": {},
   "source": [
    "Explain the trends you see in the regression plots. "
   ]
  },
  {
   "cell_type": "markdown",
   "id": "8a27196f",
   "metadata": {},
   "source": [
    "1. Firstly, there are more number of cars were manufactured with origin in USA\n",
    "\n",
    "2. It seems more percentage of points are close to the regression line for the origin USA which means the regression model is good at predicting the \"mpg\" for the cars origin in USA compared to other origin locations"
   ]
  },
  {
   "cell_type": "code",
   "execution_count": null,
   "id": "5bf7d413",
   "metadata": {},
   "outputs": [],
   "source": []
  },
  {
   "cell_type": "code",
   "execution_count": null,
   "id": "6479088c",
   "metadata": {},
   "outputs": [],
   "source": []
  },
  {
   "cell_type": "code",
   "execution_count": null,
   "id": "6f7ed22f",
   "metadata": {},
   "outputs": [],
   "source": []
  },
  {
   "cell_type": "code",
   "execution_count": null,
   "id": "45f5cc7f",
   "metadata": {},
   "outputs": [],
   "source": []
  },
  {
   "cell_type": "code",
   "execution_count": null,
   "id": "30a47160",
   "metadata": {},
   "outputs": [],
   "source": []
  }
 ],
 "metadata": {
  "kernelspec": {
   "display_name": "Python 3",
   "language": "python",
   "name": "python3"
  },
  "language_info": {
   "codemirror_mode": {
    "name": "ipython",
    "version": 3
   },
   "file_extension": ".py",
   "mimetype": "text/x-python",
   "name": "python",
   "nbconvert_exporter": "python",
   "pygments_lexer": "ipython3",
   "version": "3.8.8"
  }
 },
 "nbformat": 4,
 "nbformat_minor": 5
}
